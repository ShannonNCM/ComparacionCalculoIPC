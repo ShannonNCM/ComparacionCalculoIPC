{
 "cells": [
  {
   "cell_type": "code",
   "execution_count": 101,
   "metadata": {},
   "outputs": [],
   "source": [
    "#Se importan los paquetes necesarios para los cálculos.\n",
    "import pandas as pd #manejo de datos\n",
    "import numpy as np #parquete de matemática\n",
    "import scipy.stats as sp #paquete de estadísticas\n",
    "from sqlalchemy import create_engine #consultas a sql\n",
    "import sqlalchemy #manejo de sql\n",
    "import sys #manejo del sistema para recibir argumentos\n",
    "import warnings #\n",
    "from sqlalchemy import text\n",
    "warnings.filterwarnings(\"ignore\")\n",
    "import pyodbc\n",
    "from pptx import Presentation\n",
    "from pptx.util import Inches\n",
    "import io\n",
    "import os\n",
    "\n",
    "import matplotlib.pyplot as plt\n",
    "from matplotlib.font_manager import FontProperties\n",
    "\n",
    "import funciones\n",
    "import comparacionfunciones as cp"
   ]
  },
  {
   "cell_type": "code",
   "execution_count": 102,
   "metadata": {},
   "outputs": [
    {
     "name": "stdout",
     "output_type": "stream",
     "text": [
      "Conexión exitosa\n"
     ]
    }
   ],
   "source": [
    "#Conexión a la base de datos\n",
    "server = '10.0.0.153'\n",
    "user = \"testipc2\"\n",
    "pas = \"Abc$2020\"\n",
    "#user = input('Ingrese el usuario: ')\n",
    "#pas = input('Ingrese la contraseña: ')\n",
    "try:\n",
    "    #driver = 'SQL Server Native Client 11.0'\n",
    "    driver = 'ODBC Driver 17 for SQL Server'\n",
    "    database_connection = f'mssql://{user}:{pas}@{server}/master?driver={driver}'\n",
    "    engine = create_engine(database_connection)\n",
    "    connection = engine.connect()\n",
    "    print('Conexión exitosa')\n",
    "except:\n",
    "    print('Fallo en la conexión')"
   ]
  },
  {
   "cell_type": "code",
   "execution_count": 103,
   "metadata": {},
   "outputs": [],
   "source": [
    "#aqui se ingresa el año y mes del indice que se va a calcular\n",
    "\n",
    "anio = int(input('Ingrese el año: '))\n",
    "mes = int(input('Ingrese el mes: '))\n",
    "antanio = anio -1"
   ]
  },
  {
   "cell_type": "code",
   "execution_count": 104,
   "metadata": {},
   "outputs": [
    {
     "data": {
      "text/plain": [
       "5"
      ]
     },
     "execution_count": 104,
     "metadata": {},
     "output_type": "execute_result"
    }
   ],
   "source": [
    "mes"
   ]
  },
  {
   "cell_type": "code",
   "execution_count": 105,
   "metadata": {},
   "outputs": [],
   "source": [
    "#aqui vamos a ingresar el numero de datos a graficar\n",
    "numero = int(input('Ingrese el numero de datos a mostrar: '))\n",
    "#numero = 15"
   ]
  },
  {
   "cell_type": "code",
   "execution_count": 106,
   "metadata": {},
   "outputs": [],
   "source": [
    "#Se seleccionan los códigos de los artículos, los demás códigos pueden obtenerse a partir de éstos.\n",
    "def Codigos(connect):\n",
    "    querycod = text(f\"SELECT DISTINCT ArtCod FROM IPC2010_01_RN.dbo.IPCPH6 WHERE PerAno = 2010 AND PerMes = 12 AND ArtCod != 091110301\")\n",
    "    \n",
    "    return pd.read_sql(querycod, connect, index_col = 'ArtCod')\n",
    "\n",
    "codigos = Codigos(connection)\n",
    "#codigos"
   ]
  },
  {
   "cell_type": "code",
   "execution_count": 107,
   "metadata": {},
   "outputs": [],
   "source": [
    "#Se define una función para hallar cualquier conjunto de códigos.\n",
    "#le asocia a la categoría su número en la base de datos\n",
    "di = {'Art':6,'Gba':5,'Sub':4,'Gru':3,'Agr':2,'Div':1}\n",
    "#le asocia a cada categoría la longitud de su código\n",
    "leng = {'Div' : 2, 'Agr' : 3, 'Gru' : 4, 'Sub' : 5, 'Gba' : 7, 'Art': 9}\n",
    "\n",
    "#Se seleccionan los códigos de los artículos, los demás códigos pueden obtenerse a partir de éstos.\n",
    "def Nombres(datos, cod : str, connect = connection, dict = di):\n",
    "    ''' \n",
    "    Esta función retorna un dataframe con los nombres y códigos de una categoría específica.\n",
    "\n",
    "    Args:\n",
    "    cod (DataFrame) : El dataframe con los códigos de una categoría dada, puede ser de artículos, gasto báscico, división, etc\n",
    "    ind (str) : El código de categoría que deseamos. Gba : Gasto Básico, Sub : Subgrupo, Gru : Grupo, Agr : Agrupación, Div : División\n",
    "    '''\n",
    "    if cod == 'Art':\n",
    "        querycod = text(f\"SELECT DISTINCT ArtCod, ArtNom FROM IPC2010_RN.dbo.IPC007\")\n",
    "    else:\n",
    "        querycod = text(f'SELECT DISTINCT {cod}Cod, {cod}Nom FROM IPC2010_RN.dbo.IPCM0{dict[cod]}')\n",
    "\n",
    "    nombres = pd.read_sql(querycod, connect, index_col = cod+'Cod')\n",
    "    return pd.merge(nombres.reset_index(), datos.reset_index(), on = cod+'Cod',  how = 'inner').set_index(['RegCod',cod+'Cod'])\n",
    "\n",
    "def CodigosCat(ind :str, cod, len = leng):\n",
    "    ''' \n",
    "    Esta función retorna un dataframe con los códigos de una categoría específica.\n",
    "\n",
    "    Args:\n",
    "    cod (DataFrame) : El dataframe con los códigos de una categoría dada, puede ser de artículos, gasto báscico, división, etc\n",
    "    ind (str) : El código de categoría que deseamos. Gba : Gasto Básico, Sub : Subgrupo, Gru : Grupo, Agr : Agrupación, Div : División\n",
    "    '''\n",
    "    return pd.DataFrame([x[:len[ind]] for x in cod.index],columns=[ind+'Cod']).drop_duplicates().set_index(ind+'Cod')"
   ]
  },
  {
   "cell_type": "code",
   "execution_count": 108,
   "metadata": {},
   "outputs": [],
   "source": [
    "#Aquí se mandan a traer las boletas del mes **esto seria para el mes del año anterior\n",
    "def Boletas(anio : int, mes : int, connect):\n",
    "\n",
    "    \"\"\"Esta función retorna un dataframe con las boletas del mes correspondiente con el índice como . \n",
    "    Incluyen código de región, de artículo\n",
    "\n",
    "    args:\n",
    "    anio (int): el año de las boletas a traer\n",
    "    mes (int): el mes de las boletas a traer\n",
    "    connect (Connection) : conexión a la base de datos\n",
    "\n",
    "    \"\"\"\n",
    "    subquery = text(f\"SELECT DISTINCT ArtCod FROM IPC2010_01_RN.dbo.IPCPH6 WHERE PerAno = 2010 AND PerMes = 12 AND ArtCod != 091110301\")\n",
    "    query = text(f\"SELECT * FROM (\\\n",
    "            SELECT RegCod, ArtCod, BolNum, ArtPhi,ArtPac,UraChi,UreCan,ArtCR, PerSem\\\n",
    "            FROM IPC2010_01_RN.dbo.IPC104\\\n",
    "            WHERE PerAno = {anio} AND PerMes = {mes} \\\n",
    "            AND ArtCod IN ({subquery})\\\n",
    "            UNION ALL\\\n",
    "            SELECT RegCod, ArtCod, BolNum, ArtPhi,ArtPac,UraChi,UreCan,ArtCR, PerSem\\\n",
    "            FROM IPC2010_02_RN.dbo.IPC104\\\n",
    "            WHERE PerAno = {anio} AND PerMes = {mes} \\\n",
    "            AND ArtCod IN ({subquery})\\\n",
    "            UNION ALL\\\n",
    "            SELECT RegCod, ArtCod, BolNum, ArtPhi,ArtPac,UraChi,UreCan,ArtCR, PerSem\\\n",
    "            FROM IPC2010_03_RN.dbo.IPC104\\\n",
    "            WHERE PerAno = {anio} AND PerMes = {mes} \\\n",
    "            AND ArtCod IN ({subquery})\\\n",
    "            UNION ALL\\\n",
    "            SELECT RegCod, ArtCod, BolNum, ArtPhi,ArtPac,UraChi,UreCan,ArtCR, PerSem\\\n",
    "            FROM IPC2010_04_RN.dbo.IPC104\\\n",
    "            WHERE PerAno = {anio} AND PerMes = {mes} \\\n",
    "            AND ArtCod IN ({subquery})\\\n",
    "            UNION ALL\\\n",
    "            SELECT RegCod, ArtCod, BolNum, ArtPhi,ArtPac,UraChi,UreCan,ArtCR, PerSem\\\n",
    "            FROM IPC2010_05_RN.dbo.IPC104\\\n",
    "            WHERE PerAno = {anio} AND PerMes = {mes} \\\n",
    "            AND ArtCod IN ({subquery})\\\n",
    "            UNION ALL\\\n",
    "            SELECT RegCod, ArtCod, BolNum, ArtPhi,ArtPac,UraChi,UreCan,ArtCR, PerSem\\\n",
    "            FROM IPC2010_06_RN.dbo.IPC104\\\n",
    "            WHERE PerAno = {anio} AND PerMes = {mes} \\\n",
    "            AND ArtCod IN ({subquery})\\\n",
    "            UNION ALL\\\n",
    "            SELECT RegCod, ArtCod, BolNum, ArtPhi,ArtPac,UraChi,UreCan,ArtCR, PerSem\\\n",
    "            FROM IPC2010_07_RN.dbo.IPC104\\\n",
    "            WHERE PerAno = {anio} AND PerMes = {mes} \\\n",
    "            AND ArtCod IN ({subquery})\\\n",
    "            UNION ALL\\\n",
    "            SELECT RegCod, ArtCod, BolNum, ArtPhi,ArtPac,UraChi,UreCan,ArtCR, PerSem\\\n",
    "            FROM IPC2010_08_RN.dbo.IPC104\\\n",
    "            WHERE PerAno = {anio} AND PerMes = {mes} \\\n",
    "            AND ArtCod IN ({subquery})\\\n",
    "            ) I\\\n",
    "            ORDER BY RegCod, ArtCod\")\n",
    "    return pd.read_sql(query, connect, index_col=['RegCod', 'ArtCod', 'BolNum']).sort_index()\n",
    "\n",
    "boletas = Boletas(antanio, mes, connection)"
   ]
  },
  {
   "cell_type": "code",
   "execution_count": 109,
   "metadata": {},
   "outputs": [],
   "source": [
    "#boletas"
   ]
  },
  {
   "cell_type": "code",
   "execution_count": 110,
   "metadata": {},
   "outputs": [],
   "source": [
    "#aqui se empieza la parte de la conexion con el otro server\n",
    "#Almacenamos la información del servidor para poder realizar la conexion más adelante\n",
    "server = 'ipcprod.database.windows.net'\n",
    "user = 'ipcreader'\n",
    "password = '1pc/*2023'\n",
    "database = 'db-indices'"
   ]
  },
  {
   "cell_type": "code",
   "execution_count": 111,
   "metadata": {},
   "outputs": [],
   "source": [
    "#Se crea un string para realizar la conexión, con la informacion del servidor almacenada previamente\n",
    "conn_str = (\n",
    "    f'Driver={{ODBC Driver 17 for SQL Server}};'\n",
    "    f'Server={server};'\n",
    "    f'Database={database};'\n",
    "    f'Uid={user};'\n",
    "    f'Pwd={password};'\n",
    ")"
   ]
  },
  {
   "cell_type": "code",
   "execution_count": 112,
   "metadata": {},
   "outputs": [
    {
     "name": "stdout",
     "output_type": "stream",
     "text": [
      "Connection successful\n"
     ]
    }
   ],
   "source": [
    "try:\n",
    "    conn = pyodbc.connect(conn_str)\n",
    "    cursor = conn.cursor()\n",
    "    \n",
    "    sql_command = f\"EXEC [dbo].[sp_get_precios_recolectados_mes] {anio}, {mes}\"\n",
    "    cursor.execute(sql_command)\n",
    "    boletas01 = pd.DataFrame([tuple(row) for row in cursor.fetchall()], columns=[column[0] for column in cursor.description])\n",
    "\n",
    "    conn.close()\n",
    "    print(\"Connection successful\")\n",
    "except Exception as e:\n",
    "    print(f\"Error: {e}\")"
   ]
  },
  {
   "cell_type": "code",
   "execution_count": 113,
   "metadata": {},
   "outputs": [],
   "source": [
    "boletas02 = boletas01\n",
    "boletas02['codigo_articulo'] = boletas01['codigo_articulo'].replace(funciones.recodificacion) #esta parte hace la recodificacion con el diccionario de los codigos en el archivo funciones\n",
    "boletas02['decada'] = boletas02['decada'].replace(funciones.decadas)\n",
    "boletas02['nt_tipo'] = boletas02['nt_tipo'].replace({351761:'S', 351762:'S'})\n",
    "boletas02['nt_tipo'] = boletas02['nt_tipo'].fillna('N')\n",
    "boletas02['cantidad_anterior'] = pd.to_numeric(boletas02['cantidad_anterior'], errors='coerce')\n",
    "boletas02['cantidad_actual'] = pd.to_numeric(boletas02['cantidad_actual'], errors='coerce')\n",
    "boletas02['precio_anterior'] = pd.to_numeric(boletas02['precio_anterior'], errors='coerce')\n",
    "boletas02['precio_actual'] = pd.to_numeric(boletas02['precio_actual'], errors='coerce')\n",
    "boletas02['decada'] = pd.to_numeric(boletas02['decada'], errors='coerce')\n",
    "boletas02['region'] = boletas02['region'].astype(str)\n",
    "boletas02['codigo_articulo'] = boletas02['codigo_articulo'].astype(str)\n",
    "boletas02 = boletas02[['region', 'codigo_articulo', 'ine_poll_id', 'cantidad_anterior', 'cantidad_actual', 'precio_anterior', 'precio_actual', 'nt_tipo', 'decada']]\n",
    "boletas02.rename(columns={'region':'RegCod', 'codigo_articulo':'ArtCod', 'ine_poll_id':'BolNum', 'cantidad_anterior':'UraChi', 'cantidad_actual':'UreCan', 'precio_anterior':'ArtPhi', 'precio_actual':'ArtPac', 'nt_tipo':'ArtCR', 'decada':'PerSem'}, inplace=True)\n",
    "boletas02['RegCod'] = boletas02['RegCod'].replace({'1':'01', '2':'02', '3':'03', '4':'04', '5':'05', '6':'06', '7':'07','8':'08',})\n",
    "\n",
    "#boletas02"
   ]
  },
  {
   "cell_type": "code",
   "execution_count": 114,
   "metadata": {},
   "outputs": [],
   "source": [
    "nom_mes = cp.meses.get(mes, \"Unknown\")"
   ]
  },
  {
   "cell_type": "code",
   "execution_count": 115,
   "metadata": {},
   "outputs": [],
   "source": [
    "boletas03 = boletas02[boletas02['ArtCod'].str.len() == 9]"
   ]
  },
  {
   "cell_type": "code",
   "execution_count": 116,
   "metadata": {},
   "outputs": [],
   "source": [
    "boletas = Nombres(boletas, 'Art')\n",
    "boletas03 = Nombres(boletas03, 'Art')\n",
    "boletas['ArtNom'] = boletas['ArtNom'].str.strip()\n",
    "boletas03['ArtNom'] = boletas03['ArtNom'].str.strip()"
   ]
  },
  {
   "cell_type": "code",
   "execution_count": 117,
   "metadata": {},
   "outputs": [],
   "source": [
    "cont01 = boletas.groupby('ArtNom').size().reset_index(name='Cant').sort_values(by='Cant', ascending=False)\n",
    "cont02 = boletas03.groupby('ArtNom').size().reset_index(name='Cant').sort_values(by='Cant', ascending=False)"
   ]
  },
  {
   "cell_type": "code",
   "execution_count": 118,
   "metadata": {},
   "outputs": [],
   "source": [
    "top = pd.merge(cont01, cont02, on='ArtNom', how='inner', suffixes=('_2023', '_2024')).fillna(0).head(numero).sort_values(by='Cant_2023', ascending=False)\n",
    "last = pd.merge(cont01, cont02, on='ArtNom', how='inner', suffixes=('_2023', '_2024')).fillna(0).tail(numero).sort_values(by='Cant_2023', ascending=False)"
   ]
  },
  {
   "cell_type": "code",
   "execution_count": 119,
   "metadata": {},
   "outputs": [],
   "source": [
    "cp.grafica(top, nom_mes, 'mas', antanio, os.path.join('comp_recolec', 'reptop.png'))\n",
    "cp.grafica(last, nom_mes, 'menos', antanio, os.path.join('comp_recolec','replast.png'))"
   ]
  },
  {
   "cell_type": "code",
   "execution_count": 120,
   "metadata": {},
   "outputs": [],
   "source": [
    "#esta parte es para exportar las graficas en una ppt\n",
    "prs = Presentation()"
   ]
  },
  {
   "cell_type": "code",
   "execution_count": 121,
   "metadata": {},
   "outputs": [],
   "source": [
    "slide_layout = prs.slide_layouts[5]  # aca se usa un layout en blanco\n",
    "slide = prs.slides.add_slide(slide_layout)\n",
    "#se establecen las posiciones y tamaño de las graficas\n",
    "left1 = Inches(0.2)\n",
    "top1 = Inches(0.2)\n",
    "left2 = Inches(4.41)\n",
    "top2 = Inches(3.7)\n",
    "height = Inches(3.6)\n",
    "\n",
    "#Se agregan las imagenes\n",
    "pic1 = slide.shapes.add_picture(os.path.join('comp_recolec','reptop.png'), left1, top1, height=height)\n",
    "pic2 = slide.shapes.add_picture(os.path.join('comp_recolec','replast.png'), left2, top2, height=height)"
   ]
  },
  {
   "cell_type": "markdown",
   "metadata": {},
   "source": [
    "Esta parte serian las graficas pero para cada region"
   ]
  },
  {
   "cell_type": "code",
   "execution_count": 122,
   "metadata": {},
   "outputs": [],
   "source": [
    "contreg01 = boletas.groupby(['ArtNom', 'RegCod']).size().reset_index(name='Cant').sort_values(by='Cant', ascending=False)\n",
    "contreg02 = boletas03.groupby(['ArtNom', 'RegCod']).size().reset_index(name='Cant').sort_values(by='Cant', ascending=False)"
   ]
  },
  {
   "cell_type": "code",
   "execution_count": 123,
   "metadata": {},
   "outputs": [],
   "source": [
    "reg_cods = ['01', '02', '03', '04', '05', '06', '07', '08']"
   ]
  },
  {
   "cell_type": "code",
   "execution_count": 124,
   "metadata": {},
   "outputs": [
    {
     "name": "stderr",
     "output_type": "stream",
     "text": [
      "Exception during reset or similar\n",
      "Traceback (most recent call last):\n",
      "  File \"c:\\Users\\sncap\\AppData\\Local\\Programs\\Python\\Python311\\Lib\\site-packages\\sqlalchemy\\pool\\base.py\", line 988, in _finalize_fairy\n",
      "    fairy._reset(\n",
      "  File \"c:\\Users\\sncap\\AppData\\Local\\Programs\\Python\\Python311\\Lib\\site-packages\\sqlalchemy\\pool\\base.py\", line 1438, in _reset\n",
      "    pool._dialect.do_rollback(self)\n",
      "  File \"c:\\Users\\sncap\\AppData\\Local\\Programs\\Python\\Python311\\Lib\\site-packages\\sqlalchemy\\dialects\\mssql\\base.py\", line 3164, in do_rollback\n",
      "    super().do_rollback(dbapi_connection)\n",
      "  File \"c:\\Users\\sncap\\AppData\\Local\\Programs\\Python\\Python311\\Lib\\site-packages\\sqlalchemy\\engine\\default.py\", line 692, in do_rollback\n",
      "    dbapi_connection.rollback()\n",
      "pyodbc.OperationalError: ('08S01', '[08S01] [Microsoft][ODBC Driver 17 for SQL Server]TCP Provider: Se ha forzado la interrupción de una conexión existente por el host remoto.\\r\\n (10054) (SQLEndTran); [08S01] [Microsoft][ODBC Driver 17 for SQL Server]Communication link failure (10054)')\n"
     ]
    }
   ],
   "source": [
    "for regcod in reg_cods:\n",
    "    # Create a new slide for each region\n",
    "    slide_layout = prs.slide_layouts[5]  # Blank layout\n",
    "    slide = prs.slides.add_slide(slide_layout)\n",
    "    \n",
    "    # Define positions and size for the graphs\n",
    "    left1 = Inches(0.2)\n",
    "    top1 = Inches(0.2)\n",
    "    left2 = Inches(4.3)\n",
    "    top2 = Inches(3.7)\n",
    "    height = Inches(3.6)\n",
    "    \n",
    "    # Add the graphs to the slide\n",
    "    cp.grafreg(regcod, contreg01, contreg02, nom_mes, anio, numero)\n",
    "    slide.shapes.add_picture(os.path.join('comp_recolec', f\"top_{regcod}.png\"), left1, top1, height=height)\n",
    "    slide.shapes.add_picture(os.path.join('comp_recolec', f\"last_{regcod}.png\"), left2, top2, height=height)\n"
   ]
  },
  {
   "cell_type": "code",
   "execution_count": 125,
   "metadata": {},
   "outputs": [],
   "source": [
    "# Save the presentation\n",
    "prs.save(f'output_{mes}_{anio}.pptx')"
   ]
  }
 ],
 "metadata": {
  "kernelspec": {
   "display_name": "Python 3",
   "language": "python",
   "name": "python3"
  },
  "language_info": {
   "codemirror_mode": {
    "name": "ipython",
    "version": 3
   },
   "file_extension": ".py",
   "mimetype": "text/x-python",
   "name": "python",
   "nbconvert_exporter": "python",
   "pygments_lexer": "ipython3",
   "version": "3.11.1"
  }
 },
 "nbformat": 4,
 "nbformat_minor": 2
}
